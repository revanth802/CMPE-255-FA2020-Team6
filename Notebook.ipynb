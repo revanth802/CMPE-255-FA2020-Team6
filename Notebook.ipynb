{
 "cells": [
  {
   "cell_type": "code",
   "execution_count": 17,
   "metadata": {},
   "outputs": [],
   "source": [
    "# Using the tweepy handler to collect the tweets\n",
    "\n",
    "# Retrieving the consumer key, consumer secret, access token and access secret from the tokens.py File\n",
    "import Tokens\n",
    "\n",
    "import tweepy\n",
    "from tweepy import OAuthHandler\n",
    "import pandas as pd\n",
    "import sys\n",
    "encodingTot = sys.stdout.encoding or 'utf-8'\n",
    " \n",
    "consumer_key = Tokens.consumer_key\n",
    "consumer_secret = Tokens.consumer_secret\n",
    " \n",
    "access_token = Tokens.access_token\n",
    "access_secret = Tokens.access_secret\n",
    " \n",
    "auth = OAuthHandler(consumer_key, consumer_secret)\n",
    "auth.set_access_token(access_token, access_secret)\n",
    " \n",
    "api = tweepy.API(auth)"
   ]
  },
  {
   "cell_type": "code",
   "execution_count": 18,
   "metadata": {},
   "outputs": [
    {
     "name": "stdout",
     "output_type": "stream",
     "text": [
      "Authentication Successful\n"
     ]
    }
   ],
   "source": [
    "# testing authentication\n",
    "\n",
    "try:\n",
    "    api.verify_credentials()\n",
    "    print(\"Authentication Successful\")\n",
    "except:\n",
    "    print(\"Error during authentication\")"
   ]
  },
  {
   "cell_type": "code",
   "execution_count": 19,
   "metadata": {},
   "outputs": [
    {
     "name": "stderr",
     "output_type": "stream",
     "text": [
      "/home/revanth802/anaconda3/lib/python3.7/site-packages/ipykernel_launcher.py:18: DeprecationWarning: 'U' mode is deprecated\n"
     ]
    },
    {
     "data": {
      "text/plain": [
       "0    RT @tirexswap: Tirexswap Airdrop Program 🎁\\n\\n...\n",
       "1    RT @___kweenin: Legendary @RabsVhafuwiSA has b...\n",
       "2    RT @enhypenworld_: 📢HANDSIGN FAN PROJECT\\n\\nA ...\n",
       "3    RT @fanplus_app: ➖\\nFor 5days, one RT = 10,000...\n",
       "4    RT @wonwoononunu: Collab Giveaway by @wonwoono...\n",
       "Name: Tweet, dtype: object"
      ]
     },
     "execution_count": 19,
     "metadata": {},
     "output_type": "execute_result"
    }
   ],
   "source": [
    "import datetime\n",
    " \n",
    "columns = ['Screen_Name', 'Time_Stamp', 'Tweet']\n",
    "todays_date = datetime.datetime.now().date()\n",
    " \n",
    "tweetDF = pd.DataFrame(columns=columns)\n",
    " \n",
    "num_tweets = 500\n",
    " \n",
    "for tweet in tweepy.Cursor(api.search, q=\"google\", lang=\"en\").items(num_tweets):\n",
    "     \n",
    "    lenDF = len(tweetDF)\n",
    " \n",
    "    tweetDF.loc[lenDF] = [tweet.user.screen_name, tweet.created_at, tweet.text]\n",
    "         \n",
    "tweetDF.to_csv(\"sampleDF\", sep='\\t', encoding = encodingTot)\n",
    " \n",
    "tweetDF = pd.read_csv(open('sampleDF','rU'), sep='\\t', engine='c')\n",
    " \n",
    "tweetDF[\"Tweet\"].head()"
   ]
  },
  {
   "cell_type": "code",
   "execution_count": null,
   "metadata": {},
   "outputs": [],
   "source": []
  }
 ],
 "metadata": {
  "kernelspec": {
   "display_name": "Python 3",
   "language": "python",
   "name": "python3"
  },
  "language_info": {
   "codemirror_mode": {
    "name": "ipython",
    "version": 3
   },
   "file_extension": ".py",
   "mimetype": "text/x-python",
   "name": "python",
   "nbconvert_exporter": "python",
   "pygments_lexer": "ipython3",
   "version": "3.7.3"
  }
 },
 "nbformat": 4,
 "nbformat_minor": 4
}
