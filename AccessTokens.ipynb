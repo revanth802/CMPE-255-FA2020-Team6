{
 "cells": [
  {
   "cell_type": "code",
   "execution_count": 1,
   "metadata": {},
   "outputs": [],
   "source": [
    "# Access Token\n",
    "access_token='147456806-g7iCcim6wCUUJxGicH88PBY26QzQ3a1txMdgsyXC'\n",
    "\n",
    "# Access Token Secret\n",
    "access_secret='1oy2XDVQlKRlrESzmkDFpBXjcZiSqKdcDBE39z3NYqiau'\n",
    "\n",
    "\n",
    "# API key:\n",
    "consumer_key= 'Pd6TsxPmCVPiM2dIauNoZE5j2'\n",
    "\n",
    "# API secret key:\n",
    "consumer_secret= '7SubRF8AfHT2IRxEVMy3b3Y6p1wTDgTutCG5VMpvcYkpeMJIr6'"
   ]
  }
 ],
 "metadata": {
  "kernelspec": {
   "display_name": "Python 3",
   "language": "python",
   "name": "python3"
  },
  "language_info": {
   "codemirror_mode": {
    "name": "ipython",
    "version": 3
   },
   "file_extension": ".py",
   "mimetype": "text/x-python",
   "name": "python",
   "nbconvert_exporter": "python",
   "pygments_lexer": "ipython3",
   "version": "3.7.3"
  }
 },
 "nbformat": 4,
 "nbformat_minor": 4
}
